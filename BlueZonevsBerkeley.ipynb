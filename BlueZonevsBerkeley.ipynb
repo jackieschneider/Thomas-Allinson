{
 "cells": [
  {
   "cell_type": "markdown",
   "id": "076acd77-c54b-465e-ade0-7fdd6cc3f4e3",
   "metadata": {},
   "source": [
    "# Do Blue Zone diets work in Berkeley?"
   ]
  },
  {
   "cell_type": "markdown",
   "id": "e4c62b48-522d-412e-b255-6645767c803e",
   "metadata": {},
   "source": [
    "##### Blue Zones are areas of the world where people live much longer than the rest of the population and there are only 5 Blue Zones in the world in countries such as Greece, Italy, Japan, USA, and Costa Rica. The longevity of the population is a reflection of the their culture, community, and most importantly diets since they all tend to lead healthy lifestyles. \n",
    "##### Our group wants to see how feasible it would be to eat a Blue Zone diet as Berkeley students as compared to our typical diets. To do this, we are testing a typical Mediterranean diet, eaten in Ikaria, Greece, and an Okinawa, Japan diet against a typical Berkeley student's diet to see which has the lowest price (with Berkeley Safeway prices) and most nutritional value."
   ]
  },
  {
   "cell_type": "markdown",
   "id": "b33205db-b6c2-49c8-9edc-6a61f2d6dcc7",
   "metadata": {},
   "source": [
    "### Dietary Reference Intakes"
   ]
  },
  {
   "cell_type": "code",
   "execution_count": null,
   "id": "80e3b6fe-fbb0-4332-8968-24a96fdf4dd6",
   "metadata": {},
   "outputs": [],
   "source": [
    "#checking that we are in the correct working directory\n",
    "!pwd\n",
    "\n",
    "#installing neccesary packages and access to fdc data \n",
    "\n",
    "!pip install -r requirements.txt #--upgrade\n",
    "\n",
    "from  scipy.optimize import linprog as lp\n",
    "import numpy as np\n",
    "import pandas as pd\n",
    "\n",
    "import fooddatacentral as fdc\n",
    "import warnings"
   ]
  },
  {
   "cell_type": "code",
   "execution_count": null,
   "id": "c4499031-c65d-4e20-a088-185b9ab3721f",
   "metadata": {},
   "outputs": [],
   "source": [
    "#Read diet minimum data\n",
    "diet_min = pd.read_csv(\"diet_minimums.csv\")\n",
    "#drop unneeded columns \n",
    "diet_min = diet_min.drop(columns=[\"Unnamed: 0\"])\n",
    "diet_min = diet_min.set_index('Nutrition')\n",
    "\n",
    "diet_min\n",
    "#set \"Nutrition\" as the index of the Dataframe \n",
    "#diet_min = diet_min.set_index('Nutrition')  "
   ]
  },
  {
   "cell_type": "code",
   "execution_count": null,
   "id": "b96074db-ae2d-4e8e-9588-aa0c554febec",
   "metadata": {},
   "outputs": [],
   "source": [
    "def dietary_ref_intake(age,sex,df):\n",
    "    \"\"\"Takes in age and sex, and returns the dietary reference intake for the chosen population\"\"\"\n",
    "\n",
    "    if age <= 3:\n",
    "        col = 'C 1-3'\n",
    "    age_ranges = [(4,8),(9,13),(14,18),(19,30),(31,50),(50,100)]\n",
    "    for age_range in age_ranges:\n",
    "        if age >= age_range[0] and age <= age_range[1]:\n",
    "            col = sex + ' ' + str(age_range[0]) + '-' + str(age_range[1])\n",
    "    return pd.Series(df[col]) "
   ]
  },
  {
   "cell_type": "code",
   "execution_count": null,
   "id": "4072bd09-a331-4b2a-b28f-99d30bf51bf0",
   "metadata": {},
   "outputs": [],
   "source": [
    "# Example of minimum dietary requirements for a male aged 19\n",
    "dietary_ref_intake(age=19,sex='F',df=diet_min)"
   ]
  },
  {
   "cell_type": "markdown",
   "id": "3bc5138e-b556-4397-afdc-0ac5f8e9da8b",
   "metadata": {},
   "source": [
    "## Function to Solve Lowest Cost"
   ]
  },
  {
   "cell_type": "code",
   "execution_count": null,
   "id": "52576cc4-f312-41fd-a62d-18e57aaed589",
   "metadata": {},
   "outputs": [],
   "source": [
    "def solve_subsistence_problem(FoodNutrients,Prices,dietmin,dietmax,max_weight=None,tol=1e-6):\n",
    "    \"\"\"Solve Stigler's Subsistence Cost Problem.\n",
    "\n",
    "    Inputs:\n",
    "       - FoodNutrients : A pd.DataFrame with rows corresponding to foods, columns to nutrients.\n",
    "       - Prices : A pd.Series of prices for different foods\n",
    "       - diet_min : A pd.Series of DRIs, with index corresponding to columns of FoodNutrients,\n",
    "                    describing minimum intakes.\n",
    "       - diet_max : A pd.Series of DRIs, with index corresponding to columns of FoodNutrients,\n",
    "                    describing maximum intakes.\n",
    "       - max_weight : Maximum weight (in hectograms) allowed for diet.\n",
    "       - tol : Solution values smaller than this in absolute value treated as zeros.\n",
    "       \n",
    "    \"\"\"\n",
    "    try: \n",
    "        p = Prices.apply(lambda x:x.magnitude)\n",
    "    except AttributeError:  # Maybe not passing in prices with units?\n",
    "        warnings.warn(\"Prices have no units.  BE CAREFUL!  We're assuming prices are per hectogram or deciliter!\")\n",
    "        p = Prices\n",
    "\n",
    "    p = p.dropna()\n",
    "\n",
    "    # Compile list that we have both prices and nutritional info for; drop if either missing\n",
    "    use = p.index.intersection(FoodNutrients.columns)\n",
    "    p = p[use]\n",
    "\n",
    "    # Drop nutritional information for foods we don't know the price of,\n",
    "    # and replace missing nutrients with zeros.\n",
    "    Aall = FoodNutrients[p.index].fillna(0)\n",
    "\n",
    "    # Drop rows of A that we don't have constraints for.\n",
    "    Amin = Aall.loc[Aall.index.intersection(dietmin.index)]\n",
    "    Amin = Amin.reindex(dietmin.index,axis=0)\n",
    "    idx = Amin.index.to_frame()\n",
    "    idx['type'] = 'min'\n",
    "    #Amin.index = pd.MultiIndex.from_frame(idx)\n",
    "    #dietmin.index = Amin.index\n",
    "    \n",
    "    Amax = Aall.loc[Aall.index.intersection(dietmax.index)]\n",
    "    Amax = Amax.reindex(dietmax.index,axis=0)\n",
    "    idx = Amax.index.to_frame()\n",
    "    idx['type'] = 'max'\n",
    "    #Amax.index = pd.MultiIndex.from_frame(idx)\n",
    "    #dietmax.index = Amax.index\n",
    "\n",
    "    # Minimum requirements involve multiplying constraint by -1 to make <=.\n",
    "    A = pd.concat([Amin,\n",
    "                   -Amax])\n",
    "\n",
    "    b = pd.concat([dietmin,\n",
    "                   -dietmax]) # Note sign change for max constraints\n",
    "\n",
    "    # Make sure order of p, A, b are consistent\n",
    "    A = A.reindex(p.index,axis=1)\n",
    "    A = A.reindex(b.index,axis=0)\n",
    "\n",
    "    if max_weight is not None:\n",
    "        # Add up weights of foods consumed\n",
    "        A.loc['Hectograms'] = -1\n",
    "        b.loc['Hectograms'] = -max_weight\n",
    "        \n",
    "    # Now solve problem!  (Note that the linear program solver we'll use assumes\n",
    "    # \"less-than-or-equal\" constraints.  We can switch back and forth by\n",
    "    # multiplying $A$ and $b$ by $-1$.)\n",
    "\n",
    "    result = lp(p, -A, -b, method='highs')\n",
    "\n",
    "    result.A = A\n",
    "    result.b = b\n",
    "    \n",
    "    if result.success:\n",
    "        result.diet = pd.Series(result.x,index=p.index)\n",
    "    else: # No feasible solution?\n",
    "        warnings.warn(result.message)\n",
    "        result.diet = pd.Series(result.x,index=p.index)*np.nan  \n",
    "\n",
    "    return result"
   ]
  },
  {
   "cell_type": "markdown",
   "id": "a7792563-5134-4b85-b545-c4aa54a16252",
   "metadata": {},
   "source": [
    "## Generic Berkeley Student Diet"
   ]
  },
  {
   "cell_type": "code",
   "execution_count": null,
   "id": "e8394e69-cc45-4a96-81bf-68118303110b",
   "metadata": {},
   "outputs": [],
   "source": [
    "from  scipy.optimize import linprog as lp\n",
    "import numpy as np\n",
    "import warnings"
   ]
  },
  {
   "cell_type": "code",
   "execution_count": null,
   "id": "ad8f95af-32ca-4068-a052-6841138a9d73",
   "metadata": {},
   "outputs": [],
   "source": [
    "apikey = \"sCD07VKZEF2pe7ewJNYSSWlOHY0nRMda34HLcp80\""
   ]
  },
  {
   "cell_type": "code",
   "execution_count": null,
   "id": "87de6fe8-3c7b-4d77-a96a-52f290ee8a4a",
   "metadata": {},
   "outputs": [],
   "source": [
    "%pip install pandas\n",
    "%pip install gnupg"
   ]
  },
  {
   "cell_type": "markdown",
   "id": "5a036b8f-6f84-4781-b0a3-654e2e581969",
   "metadata": {},
   "source": [
    "#### Prices for Generic Berkeley Diet"
   ]
  },
  {
   "cell_type": "code",
   "execution_count": null,
   "id": "1b7952aa-d174-4fff-ab0b-fc1a22a2a6be",
   "metadata": {},
   "outputs": [],
   "source": [
    "SHEETs = [# BERKELEY DIET foods, Berkeley prices\n",
    "          (\"https://docs.google.com/spreadsheets/d/11Ou4aZ8bE12J6dY9hmyUeCFFCNpplexnOGtfJVKdgbY/edit#gid=628663795\",\"GENERIC\"),\n",
    "         ]"
   ]
  },
  {
   "cell_type": "code",
   "execution_count": null,
   "id": "6713d822-91d3-43e1-9b04-b17f37b986bd",
   "metadata": {},
   "outputs": [],
   "source": [
    "import pandas as pd\n",
    "from eep153_tools.sheets import read_sheets\n",
    "\n",
    "df = read_sheets(SHEETs[0][0])[SHEETs[0][1]]\n",
    "df\n",
    "df['FDC'] = pd.to_numeric(df['FDC'], errors='coerce').fillna(0).astype(int)\n",
    "\n",
    "print(df)"
   ]
  },
  {
   "cell_type": "markdown",
   "id": "681d099c-614a-4d61-b4eb-0a961ae0a956",
   "metadata": {},
   "source": [
    "#### Nutritional Information for Berkeley Diet Foods"
   ]
  },
  {
   "cell_type": "code",
   "execution_count": null,
   "id": "b94e0db1-0117-4e6e-8470-6e2cb152f4fe",
   "metadata": {},
   "outputs": [],
   "source": [
    "import fooddatacentral as fdc\n",
    "import warnings\n",
    "\n",
    "D = {}\n",
    "count = 0\n",
    "for food in df.Food.tolist():\n",
    "    try:\n",
    "        FDC = df.loc[df.Food==food,:].FDC[count]\n",
    "        count+=1\n",
    "        D[food] = fdc.nutrients(apikey,FDC).Quantity\n",
    "    except AttributeError: \n",
    "        warnings.warn(\"Couldn't find FDC Code %s for food %s.\" % (food, FDC))        \n",
    "\n",
    "FoodNutrients = pd.DataFrame(D,dtype=float)\n",
    "FoodNutrients"
   ]
  },
  {
   "cell_type": "code",
   "execution_count": null,
   "id": "53f009c9-f7e3-4d9a-bb89-9fe5a9186064",
   "metadata": {},
   "outputs": [],
   "source": [
    "# Unit Conversion\n",
    "# Convert food quantities to FDC units\n",
    "df['FDC Quantity'] = df[['Quantity','Units']].T.apply(lambda x : fdc.units(x['Quantity'],x['Units']))\n",
    "\n",
    "# Now may want to filter df by time or place--need to get a unique set of food names.\n",
    "df['FDC Price'] = df['Price']/df['FDC Quantity']\n",
    "\n",
    "df.dropna(how='any') # Drop food with any missing data\n",
    "\n",
    "# To use minimum price observed\n",
    "Prices = df.groupby('Food',sort=False)['FDC Price'].min()"
   ]
  },
  {
   "cell_type": "markdown",
   "id": "3065c814-22a4-4f31-8023-cf3f29c130b6",
   "metadata": {},
   "source": [
    "#### Berkeley Result"
   ]
  },
  {
   "cell_type": "code",
   "execution_count": null,
   "id": "7ab4af22-1b1f-45e1-986d-f5e0ebff834b",
   "metadata": {},
   "outputs": [],
   "source": [
    "group = 'M 19-30'\n",
    "tol = 1e-6\n",
    "\n",
    "result = solve_subsistence_problem(FoodNutrients,Prices,diet_min[group],diet_max[group],tol=tol)\n",
    "\n",
    "print(\"Cost of diet for %s is $%4.2f per day.\\n\" % (group,result.fun))\n",
    "\n",
    "# Put back into nice series\n",
    "diet = result.diet\n",
    "\n",
    "print(\"\\nDiet (in 100s of grams or milliliters):\")\n",
    "print(diet[diet >= tol])  # Drop items with quantities less than precision of calculation.\n",
    "print()\n",
    "\n",
    "tab = pd.DataFrame({\"Outcome\":np.abs(result.A).dot(diet),\"Recommendation\":np.abs(result.b)})\n",
    "print(\"\\nWith the following nutritional outcomes of interest:\")\n",
    "print(tab)\n",
    "print()\n",
    "\n",
    "print(\"\\nConstraining nutrients are:\")\n",
    "excess = tab.diff(axis=1).iloc[:,1]\n",
    "print(excess.loc[np.abs(excess) < tol*100].index.tolist())"
   ]
  },
  {
   "cell_type": "markdown",
   "id": "c569d921-8964-49ca-8587-e60874415c26",
   "metadata": {},
   "source": [
    "## Mediterranean Diet"
   ]
  },
  {
   "cell_type": "markdown",
   "id": "8da1031c-b305-412e-a252-b481d04e6208",
   "metadata": {},
   "source": [
    "#### Prices for Mediterranean Diet"
   ]
  },
  {
   "cell_type": "code",
   "execution_count": null,
   "id": "5bb505fb-b110-4b31-9c7c-142a4cf36b94",
   "metadata": {},
   "outputs": [],
   "source": [
    "SHEETs = [# MEDITERRANEAN foods, Berkeley prices\n",
    "          (\"https://docs.google.com/spreadsheets/d/11Ou4aZ8bE12J6dY9hmyUeCFFCNpplexnOGtfJVKdgbY/edit#gid=628663795\",\"MED\"),\n",
    "         ]"
   ]
  },
  {
   "cell_type": "code",
   "execution_count": null,
   "id": "7d00596b-7156-42fc-a037-4e2c44841d0d",
   "metadata": {},
   "outputs": [],
   "source": [
    "import pandas as pd\n",
    "from eep153_tools.sheets import read_sheets\n",
    "\n",
    "df = read_sheets(SHEETs[0][0])[SHEETs[0][1]]\n",
    "df\n",
    "df['FDC'] = pd.to_numeric(df['FDC'], errors='coerce').fillna(0).astype(int)\n",
    "\n",
    "print(df)"
   ]
  },
  {
   "cell_type": "code",
   "execution_count": null,
   "id": "10703fb0-c8b9-48da-acfa-d4ccf6aefa2f",
   "metadata": {},
   "outputs": [],
   "source": [
    "from eep153_tools.sheets import read_sheets\n",
    "\n",
    "DRI_url = \"https://docs.google.com/spreadsheets/d/1y95IsQ4HKspPW3HHDtH7QMtlDA66IUsCHJLutVL-MMc/\"\n",
    "\n",
    "DRIs = read_sheets(DRI_url)\n",
    "\n",
    "# Define *minimums*\n",
    "diet_min = DRIs['diet_minimums'].set_index('Nutrition')\n",
    "\n",
    "# Define *maximums*\n",
    "diet_max = DRIs['diet_maximums'].set_index('Nutrition')"
   ]
  },
  {
   "cell_type": "markdown",
   "id": "7447a8ab-ae07-42fb-9efe-678f1d8b85df",
   "metadata": {},
   "source": [
    "#### Nutritional Information for Med Diet"
   ]
  },
  {
   "cell_type": "code",
   "execution_count": null,
   "id": "a07f4dce-bb1b-4156-8cfe-a4f28e364dbe",
   "metadata": {},
   "outputs": [],
   "source": [
    "import fooddatacentral as fdc\n",
    "import warnings\n",
    "\n",
    "D = {}\n",
    "count = 0\n",
    "for food in df.Food.tolist():\n",
    "    try:\n",
    "        FDC = df.loc[df.Food==food,:].FDC[count]\n",
    "        count+=1\n",
    "        D[food] = fdc.nutrients(apikey,FDC).Quantity\n",
    "    except AttributeError: \n",
    "        warnings.warn(\"Couldn't find FDC Code %s for food %s.\" % (food, FDC))        \n",
    "\n",
    "FoodNutrients = pd.DataFrame(D,dtype=float)\n",
    "FoodNutrients"
   ]
  },
  {
   "cell_type": "code",
   "execution_count": null,
   "id": "64ac66f8-ce26-4471-a8c0-45077adc60f7",
   "metadata": {},
   "outputs": [],
   "source": [
    "# Unit Conversion\n",
    "# Convert food quantities to FDC units\n",
    "df['FDC Quantity'] = df[['Quantity','Units']].T.apply(lambda x : fdc.units(x['Quantity'],x['Units']))\n",
    "\n",
    "# Now may want to filter df by time or place--need to get a unique set of food names.\n",
    "df['FDC Price'] = df['Price']/df['FDC Quantity']\n",
    "\n",
    "df.dropna(how='any') # Drop food with any missing data\n",
    "\n",
    "# To use minimum price observed\n",
    "Prices = df.groupby('Food',sort=False)['FDC Price'].min()"
   ]
  },
  {
   "cell_type": "code",
   "execution_count": null,
   "id": "55c5298a-48b7-4848-acff-9cc129e18a96",
   "metadata": {},
   "outputs": [],
   "source": [
    "from eep153_tools.sheets import read_sheets\n",
    "\n",
    "DRI_url = \"https://docs.google.com/spreadsheets/d/1y95IsQ4HKspPW3HHDtH7QMtlDA66IUsCHJLutVL-MMc/\"\n",
    "\n",
    "DRIs = read_sheets(DRI_url)\n",
    "\n",
    "# Define *minimums*\n",
    "diet_min = DRIs['diet_minimums'].set_index('Nutrition')\n",
    "\n",
    "# Define *maximums*\n",
    "diet_max = DRIs['diet_maximums'].set_index('Nutrition')"
   ]
  },
  {
   "cell_type": "markdown",
   "id": "209bc0cb-7756-4267-b7ed-9f157840a6da",
   "metadata": {},
   "source": [
    "#### Mediterranean Result"
   ]
  },
  {
   "cell_type": "code",
   "execution_count": null,
   "id": "685bba1b-ec41-4fd1-9a8a-4f52825420f5",
   "metadata": {},
   "outputs": [],
   "source": [
    "group = 'M 19-30'\n",
    "tol = 1e-6\n",
    "\n",
    "result = solve_subsistence_problem(FoodNutrients,Prices,diet_min[group],diet_max[group],tol=tol)\n",
    "\n",
    "print(\"Cost of diet for %s is $%4.2f per day.\\n\" % (group,result.fun))\n",
    "\n",
    "# Put back into nice series\n",
    "diet = result.diet\n",
    "\n",
    "print(\"\\nDiet (in 100s of grams or milliliters):\")\n",
    "print(diet[diet >= tol])  # Drop items with quantities less than precision of calculation.\n",
    "print()\n",
    "\n",
    "tab = pd.DataFrame({\"Outcome\":np.abs(result.A).dot(diet),\"Recommendation\":np.abs(result.b)})\n",
    "print(\"\\nWith the following nutritional outcomes of interest:\")\n",
    "print(tab)\n",
    "print()\n",
    "\n",
    "print(\"\\nConstraining nutrients are:\")\n",
    "excess = tab.diff(axis=1).iloc[:,1]\n",
    "print(excess.loc[np.abs(excess) < tol*100].index.tolist())"
   ]
  },
  {
   "cell_type": "markdown",
   "id": "19783aa8-9d25-4f63-8d08-3108ae0c59ce",
   "metadata": {},
   "source": [
    "## Okinawa Diet"
   ]
  },
  {
   "cell_type": "markdown",
   "id": "8ad51eb5-dd98-4be8-874b-720c6035a70a",
   "metadata": {},
   "source": [
    "#### Prices for Okinawa Diet"
   ]
  },
  {
   "cell_type": "code",
   "execution_count": null,
   "id": "07e397fb-a03d-4c7a-9615-3a4c7f69b5e5",
   "metadata": {},
   "outputs": [],
   "source": [
    "SHEETs = [# OKINAWA foods, Berkeley prices\n",
    "          (\"https://docs.google.com/spreadsheets/d/11Ou4aZ8bE12J6dY9hmyUeCFFCNpplexnOGtfJVKdgbY/edit#gid=628663795\",\"OKINAWA\"),\n",
    "         ]"
   ]
  },
  {
   "cell_type": "code",
   "execution_count": null,
   "id": "16598ef9-7b15-4a16-b7dd-c56f8e2197d6",
   "metadata": {},
   "outputs": [],
   "source": [
    "import pandas as pd\n",
    "from eep153_tools.sheets import read_sheets\n",
    "\n",
    "df = read_sheets(SHEETs[0][0])[SHEETs[0][1]]\n",
    "df\n",
    "df['FDC'] = pd.to_numeric(df['FDC'], errors='coerce').fillna(0).astype(int)\n",
    "\n",
    "print(df)"
   ]
  },
  {
   "cell_type": "markdown",
   "id": "00e707c3-5b8d-464f-a143-4802820d50f2",
   "metadata": {},
   "source": [
    "#### Nutritional Information for Okinawa Diet"
   ]
  },
  {
   "cell_type": "code",
   "execution_count": null,
   "id": "7a600914-b5b1-44ba-9739-d66f815de6a4",
   "metadata": {},
   "outputs": [],
   "source": [
    "import fooddatacentral as fdc\n",
    "import warnings\n",
    "\n",
    "D = {}\n",
    "count = 0\n",
    "for food in df.Food.tolist():\n",
    "    try:\n",
    "        FDC = df.loc[df.Food==food,:].FDC[count]\n",
    "        count+=1\n",
    "        D[food] = fdc.nutrients(apikey,FDC).Quantity\n",
    "    except AttributeError: \n",
    "        warnings.warn(\"Couldn't find FDC Code %s for food %s.\" % (food, FDC))        \n",
    "\n",
    "FoodNutrients = pd.DataFrame(D,dtype=float)\n",
    "FoodNutrients"
   ]
  },
  {
   "cell_type": "code",
   "execution_count": null,
   "id": "ca41fe0f-5bf1-45a2-9972-a66837cd00cb",
   "metadata": {},
   "outputs": [],
   "source": [
    "# Unit Conversion\n",
    "# Convert food quantities to FDC units\n",
    "df['FDC Quantity'] = df[['Quantity','Units']].T.apply(lambda x : fdc.units(x['Quantity'],x['Units']))\n",
    "\n",
    "# Now may want to filter df by time or place--need to get a unique set of food names.\n",
    "df['FDC Price'] = df['Price']/df['FDC Quantity']\n",
    "\n",
    "df.dropna(how='any') # Drop food with any missing data\n",
    "\n",
    "# To use minimum price observed\n",
    "Prices = df.groupby('Food',sort=False)['FDC Price'].min()"
   ]
  },
  {
   "cell_type": "code",
   "execution_count": null,
   "id": "c0585292-c828-4ded-82fd-94ca7b6ef69a",
   "metadata": {},
   "outputs": [],
   "source": [
    "from eep153_tools.sheets import read_sheets\n",
    "\n",
    "DRI_url = \"https://docs.google.com/spreadsheets/d/1y95IsQ4HKspPW3HHDtH7QMtlDA66IUsCHJLutVL-MMc/\"\n",
    "\n",
    "DRIs = read_sheets(DRI_url)\n",
    "\n",
    "# Define *minimums*\n",
    "diet_min = DRIs['diet_minimums'].set_index('Nutrition')\n",
    "\n",
    "# Define *maximums*\n",
    "diet_max = DRIs['diet_maximums'].set_index('Nutrition')"
   ]
  },
  {
   "cell_type": "markdown",
   "id": "0f9c9ccb-98ad-4968-811c-e0c6efb69387",
   "metadata": {},
   "source": [
    "#### Okinawa Result"
   ]
  },
  {
   "cell_type": "code",
   "execution_count": null,
   "id": "24954dbb-c1e0-44c1-af22-8ee0c19ace69",
   "metadata": {},
   "outputs": [],
   "source": [
    "group = 'M 19-30'\n",
    "tol = 1e-6\n",
    "\n",
    "result = solve_subsistence_problem(FoodNutrients,Prices,diet_min[group],diet_max[group],tol=tol)\n",
    "\n",
    "print(\"Cost of diet for %s is $%4.2f per day.\\n\" % (group,result.fun))\n",
    "\n",
    "# Put back into nice series\n",
    "diet = result.diet\n",
    "\n",
    "print(\"\\nDiet (in 100s of grams or milliliters):\")\n",
    "print(diet[diet >= tol])  # Drop items with quantities less than precision of calculation.\n",
    "print()\n",
    "\n",
    "tab = pd.DataFrame({\"Outcome\":np.abs(result.A).dot(diet),\"Recommendation\":np.abs(result.b)})\n",
    "print(\"\\nWith the following nutritional outcomes of interest:\")\n",
    "print(tab)\n",
    "print()\n",
    "\n",
    "print(\"\\nConstraining nutrients are:\")\n",
    "excess = tab.diff(axis=1).iloc[:,1]\n",
    "print(excess.loc[np.abs(excess) < tol*100].index.tolist())"
   ]
  }
 ],
 "metadata": {
  "kernelspec": {
   "display_name": "Python 3 (ipykernel)",
   "language": "python",
   "name": "python3"
  },
  "language_info": {
   "codemirror_mode": {
    "name": "ipython",
    "version": 3
   },
   "file_extension": ".py",
   "mimetype": "text/x-python",
   "name": "python",
   "nbconvert_exporter": "python",
   "pygments_lexer": "ipython3",
   "version": "3.9.15"
  }
 },
 "nbformat": 4,
 "nbformat_minor": 5
}
